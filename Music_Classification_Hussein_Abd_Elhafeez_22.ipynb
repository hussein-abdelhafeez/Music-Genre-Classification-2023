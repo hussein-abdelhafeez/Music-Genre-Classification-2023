{
  "cells": [
    {
      "cell_type": "markdown",
      "source": [
        "# 1- Import Data & Lips"
      ],
      "metadata": {
        "id": "jHCKDLp3blSZ"
      },
      "id": "jHCKDLp3blSZ"
    },
    {
      "cell_type": "code",
      "execution_count": 85,
      "id": "8e3214a7",
      "metadata": {
        "execution": {
          "iopub.execute_input": "2022-12-21T15:46:28.597658Z",
          "iopub.status.busy": "2022-12-21T15:46:28.596508Z",
          "iopub.status.idle": "2022-12-21T15:46:29.832253Z",
          "shell.execute_reply": "2022-12-21T15:46:29.831407Z"
        },
        "papermill": {
          "duration": 1.246232,
          "end_time": "2022-12-21T15:46:29.834827",
          "exception": false,
          "start_time": "2022-12-21T15:46:28.588595",
          "status": "completed"
        },
        "tags": [],
        "id": "8e3214a7"
      },
      "outputs": [],
      "source": [
        "import pandas as pd\n",
        "import numpy as np\n",
        "import chardet\n",
        "from sklearn.tree import DecisionTreeClassifier\n",
        "from sklearn.model_selection import train_test_split\n",
        "import missingno as msno\n",
        "from sklearn.impute import SimpleImputer # imputation\n",
        "from sklearn.ensemble import RandomForestClassifier\n",
        "from sklearn.metrics import accuracy_score\n",
        "import matplotlib.pyplot as plt\n",
        "%matplotlib inline\n",
        "import seaborn as sns"
      ]
    },
    {
      "cell_type": "code",
      "execution_count": 86,
      "id": "11f58409",
      "metadata": {
        "execution": {
          "iopub.execute_input": "2022-12-21T15:46:34.814604Z",
          "iopub.status.busy": "2022-12-21T15:46:34.813900Z",
          "iopub.status.idle": "2022-12-21T15:46:34.820510Z",
          "shell.execute_reply": "2022-12-21T15:46:34.819684Z"
        },
        "papermill": {
          "duration": 0.015271,
          "end_time": "2022-12-21T15:46:34.822672",
          "exception": false,
          "start_time": "2022-12-21T15:46:34.807401",
          "status": "completed"
        },
        "tags": [],
        "id": "11f58409"
      },
      "outputs": [],
      "source": [
        "# Accuracy score\n",
        "def score_dataset(X_train, X_valid, y_train, y_valid):\n",
        "    model = RandomForestClassifier(n_estimators=100, random_state=0)\n",
        "    model.fit(X_train, y_train)\n",
        "    preds = model.predict(X_valid)\n",
        "    return accuracy_score(y_valid, preds)"
      ]
    },
    {
      "cell_type": "code",
      "execution_count": 87,
      "id": "9681914a",
      "metadata": {
        "execution": {
          "iopub.execute_input": "2022-12-21T15:46:29.847584Z",
          "iopub.status.busy": "2022-12-21T15:46:29.847201Z",
          "iopub.status.idle": "2022-12-21T15:46:34.672186Z",
          "shell.execute_reply": "2022-12-21T15:46:34.670511Z"
        },
        "papermill": {
          "duration": 4.834625,
          "end_time": "2022-12-21T15:46:34.675450",
          "exception": false,
          "start_time": "2022-12-21T15:46:29.840825",
          "status": "completed"
        },
        "tags": [],
        "colab": {
          "base_uri": "https://localhost:8080/"
        },
        "id": "9681914a",
        "outputId": "37680f2e-2b9c-4835-d383-62547ca201fb"
      },
      "outputs": [
        {
          "output_type": "stream",
          "name": "stdout",
          "text": [
            "{'encoding': 'utf-8', 'confidence': 0.99, 'language': ''}\n"
          ]
        }
      ],
      "source": [
        "with open(\"/content/train (1).csv\", 'rb') as rawdata:\n",
        "    result = chardet.detect(rawdata.read())\n",
        "print(result)"
      ]
    },
    {
      "cell_type": "code",
      "execution_count": 88,
      "id": "3a88f055",
      "metadata": {
        "execution": {
          "iopub.execute_input": "2022-12-21T15:46:34.690244Z",
          "iopub.status.busy": "2022-12-21T15:46:34.689550Z",
          "iopub.status.idle": "2022-12-21T15:46:34.798946Z",
          "shell.execute_reply": "2022-12-21T15:46:34.797942Z"
        },
        "papermill": {
          "duration": 0.119383,
          "end_time": "2022-12-21T15:46:34.801744",
          "exception": false,
          "start_time": "2022-12-21T15:46:34.682361",
          "status": "completed"
        },
        "tags": [],
        "id": "3a88f055"
      },
      "outputs": [],
      "source": [
        "test = pd.read_csv('/content/test (2).csv', encoding='utf-8')\n",
        "train = pd.read_csv('/content/train (1).csv', encoding='utf-8')"
      ]
    },
    {
      "cell_type": "markdown",
      "source": [
        "# 2- Data Exploration"
      ],
      "metadata": {
        "id": "yDTXnj1db5iY"
      },
      "id": "yDTXnj1db5iY"
    },
    {
      "cell_type": "code",
      "execution_count": 89,
      "id": "2cfcf093",
      "metadata": {
        "execution": {
          "iopub.execute_input": "2022-12-21T15:46:34.835547Z",
          "iopub.status.busy": "2022-12-21T15:46:34.834650Z",
          "iopub.status.idle": "2022-12-21T15:46:34.843106Z",
          "shell.execute_reply": "2022-12-21T15:46:34.842423Z"
        },
        "papermill": {
          "duration": 0.016826,
          "end_time": "2022-12-21T15:46:34.845003",
          "exception": false,
          "start_time": "2022-12-21T15:46:34.828177",
          "status": "completed"
        },
        "tags": [],
        "colab": {
          "base_uri": "https://localhost:8080/"
        },
        "id": "2cfcf093",
        "outputId": "fa458057-14dc-4d95-a546-21749bb7881c"
      },
      "outputs": [
        {
          "output_type": "execute_result",
          "data": {
            "text/plain": [
              "Index(['Id', 'Artist Name', 'Track Name', 'Popularity', 'danceability',\n",
              "       'energy', 'key', 'loudness', 'mode', 'speechiness', 'acousticness',\n",
              "       'instrumentalness', 'liveness', 'valence', 'tempo',\n",
              "       'duration_in min/ms', 'time_signature', 'Class'],\n",
              "      dtype='object')"
            ]
          },
          "metadata": {},
          "execution_count": 89
        }
      ],
      "source": [
        "train.columns"
      ]
    },
    {
      "cell_type": "code",
      "source": [
        "train.shape,   test.shape"
      ],
      "metadata": {
        "colab": {
          "base_uri": "https://localhost:8080/"
        },
        "id": "vGfhrNvmcYxG",
        "outputId": "ecd5a5d1-e311-404d-d6af-5772deed2271"
      },
      "id": "vGfhrNvmcYxG",
      "execution_count": 90,
      "outputs": [
        {
          "output_type": "execute_result",
          "data": {
            "text/plain": [
              "((14396, 18), (3600, 17))"
            ]
          },
          "metadata": {},
          "execution_count": 90
        }
      ]
    },
    {
      "cell_type": "code",
      "execution_count": 91,
      "id": "f72a91ca",
      "metadata": {
        "execution": {
          "iopub.execute_input": "2022-12-21T15:46:34.857628Z",
          "iopub.status.busy": "2022-12-21T15:46:34.856790Z",
          "iopub.status.idle": "2022-12-21T15:46:34.881859Z",
          "shell.execute_reply": "2022-12-21T15:46:34.880911Z"
        },
        "papermill": {
          "duration": 0.033947,
          "end_time": "2022-12-21T15:46:34.884278",
          "exception": false,
          "start_time": "2022-12-21T15:46:34.850331",
          "status": "completed"
        },
        "tags": [],
        "colab": {
          "base_uri": "https://localhost:8080/",
          "height": 409
        },
        "id": "f72a91ca",
        "outputId": "c2410828-4b65-429e-89ea-3ecf4672339b"
      },
      "outputs": [
        {
          "output_type": "execute_result",
          "data": {
            "text/plain": [
              "      Id      Artist Name                    Track Name  Popularity  \\\n",
              "0  14397  Juan Pablo Vega  Matando (feat. Vic Mirallas)         NaN   \n",
              "1  14398        Kappi Kat                       Baarish        14.0   \n",
              "2  14399  Plain White T's             Hey There Delilah        80.0   \n",
              "3  14400    WALK THE MOON              Different Colors        52.0   \n",
              "4  14401            Peled                      ◊ß◊®◊ô◊ñ        23.0   \n",
              "\n",
              "   danceability  energy  key  loudness  mode  speechiness  acousticness  \\\n",
              "0         0.691   0.670  2.0    -7.093     0       0.0941      0.075700   \n",
              "1         0.461   0.777  2.0    -7.469     1       0.0306      0.388000   \n",
              "2         0.656   0.291  2.0   -10.572     1       0.0293      0.872000   \n",
              "3         0.480   0.826  NaN    -4.602     1       0.0397      0.000797   \n",
              "4         0.734   0.729  1.0    -6.381     0       0.2830      0.147000   \n",
              "\n",
              "   instrumentalness  liveness  valence    tempo  duration_in min/ms  \\\n",
              "0          0.035200    0.1970    0.635   89.965            200000.0   \n",
              "1          0.923000    0.2910    0.525  163.043            283909.0   \n",
              "2               NaN    0.1140    0.298  103.971            232533.0   \n",
              "3          0.000001    0.1250    0.687   96.000            222053.0   \n",
              "4               NaN    0.0672    0.805   76.030            118439.0   \n",
              "\n",
              "   time_signature  \n",
              "0               4  \n",
              "1               4  \n",
              "2               4  \n",
              "3               4  \n",
              "4               4  "
            ],
            "text/html": [
              "\n",
              "  <div id=\"df-f9f13271-a7e5-407c-ae66-1822f0141406\">\n",
              "    <div class=\"colab-df-container\">\n",
              "      <div>\n",
              "<style scoped>\n",
              "    .dataframe tbody tr th:only-of-type {\n",
              "        vertical-align: middle;\n",
              "    }\n",
              "\n",
              "    .dataframe tbody tr th {\n",
              "        vertical-align: top;\n",
              "    }\n",
              "\n",
              "    .dataframe thead th {\n",
              "        text-align: right;\n",
              "    }\n",
              "</style>\n",
              "<table border=\"1\" class=\"dataframe\">\n",
              "  <thead>\n",
              "    <tr style=\"text-align: right;\">\n",
              "      <th></th>\n",
              "      <th>Id</th>\n",
              "      <th>Artist Name</th>\n",
              "      <th>Track Name</th>\n",
              "      <th>Popularity</th>\n",
              "      <th>danceability</th>\n",
              "      <th>energy</th>\n",
              "      <th>key</th>\n",
              "      <th>loudness</th>\n",
              "      <th>mode</th>\n",
              "      <th>speechiness</th>\n",
              "      <th>acousticness</th>\n",
              "      <th>instrumentalness</th>\n",
              "      <th>liveness</th>\n",
              "      <th>valence</th>\n",
              "      <th>tempo</th>\n",
              "      <th>duration_in min/ms</th>\n",
              "      <th>time_signature</th>\n",
              "    </tr>\n",
              "  </thead>\n",
              "  <tbody>\n",
              "    <tr>\n",
              "      <th>0</th>\n",
              "      <td>14397</td>\n",
              "      <td>Juan Pablo Vega</td>\n",
              "      <td>Matando (feat. Vic Mirallas)</td>\n",
              "      <td>NaN</td>\n",
              "      <td>0.691</td>\n",
              "      <td>0.670</td>\n",
              "      <td>2.0</td>\n",
              "      <td>-7.093</td>\n",
              "      <td>0</td>\n",
              "      <td>0.0941</td>\n",
              "      <td>0.075700</td>\n",
              "      <td>0.035200</td>\n",
              "      <td>0.1970</td>\n",
              "      <td>0.635</td>\n",
              "      <td>89.965</td>\n",
              "      <td>200000.0</td>\n",
              "      <td>4</td>\n",
              "    </tr>\n",
              "    <tr>\n",
              "      <th>1</th>\n",
              "      <td>14398</td>\n",
              "      <td>Kappi Kat</td>\n",
              "      <td>Baarish</td>\n",
              "      <td>14.0</td>\n",
              "      <td>0.461</td>\n",
              "      <td>0.777</td>\n",
              "      <td>2.0</td>\n",
              "      <td>-7.469</td>\n",
              "      <td>1</td>\n",
              "      <td>0.0306</td>\n",
              "      <td>0.388000</td>\n",
              "      <td>0.923000</td>\n",
              "      <td>0.2910</td>\n",
              "      <td>0.525</td>\n",
              "      <td>163.043</td>\n",
              "      <td>283909.0</td>\n",
              "      <td>4</td>\n",
              "    </tr>\n",
              "    <tr>\n",
              "      <th>2</th>\n",
              "      <td>14399</td>\n",
              "      <td>Plain White T's</td>\n",
              "      <td>Hey There Delilah</td>\n",
              "      <td>80.0</td>\n",
              "      <td>0.656</td>\n",
              "      <td>0.291</td>\n",
              "      <td>2.0</td>\n",
              "      <td>-10.572</td>\n",
              "      <td>1</td>\n",
              "      <td>0.0293</td>\n",
              "      <td>0.872000</td>\n",
              "      <td>NaN</td>\n",
              "      <td>0.1140</td>\n",
              "      <td>0.298</td>\n",
              "      <td>103.971</td>\n",
              "      <td>232533.0</td>\n",
              "      <td>4</td>\n",
              "    </tr>\n",
              "    <tr>\n",
              "      <th>3</th>\n",
              "      <td>14400</td>\n",
              "      <td>WALK THE MOON</td>\n",
              "      <td>Different Colors</td>\n",
              "      <td>52.0</td>\n",
              "      <td>0.480</td>\n",
              "      <td>0.826</td>\n",
              "      <td>NaN</td>\n",
              "      <td>-4.602</td>\n",
              "      <td>1</td>\n",
              "      <td>0.0397</td>\n",
              "      <td>0.000797</td>\n",
              "      <td>0.000001</td>\n",
              "      <td>0.1250</td>\n",
              "      <td>0.687</td>\n",
              "      <td>96.000</td>\n",
              "      <td>222053.0</td>\n",
              "      <td>4</td>\n",
              "    </tr>\n",
              "    <tr>\n",
              "      <th>4</th>\n",
              "      <td>14401</td>\n",
              "      <td>Peled</td>\n",
              "      <td>◊ß◊®◊ô◊ñ</td>\n",
              "      <td>23.0</td>\n",
              "      <td>0.734</td>\n",
              "      <td>0.729</td>\n",
              "      <td>1.0</td>\n",
              "      <td>-6.381</td>\n",
              "      <td>0</td>\n",
              "      <td>0.2830</td>\n",
              "      <td>0.147000</td>\n",
              "      <td>NaN</td>\n",
              "      <td>0.0672</td>\n",
              "      <td>0.805</td>\n",
              "      <td>76.030</td>\n",
              "      <td>118439.0</td>\n",
              "      <td>4</td>\n",
              "    </tr>\n",
              "  </tbody>\n",
              "</table>\n",
              "</div>\n",
              "      <button class=\"colab-df-convert\" onclick=\"convertToInteractive('df-f9f13271-a7e5-407c-ae66-1822f0141406')\"\n",
              "              title=\"Convert this dataframe to an interactive table.\"\n",
              "              style=\"display:none;\">\n",
              "        \n",
              "  <svg xmlns=\"http://www.w3.org/2000/svg\" height=\"24px\"viewBox=\"0 0 24 24\"\n",
              "       width=\"24px\">\n",
              "    <path d=\"M0 0h24v24H0V0z\" fill=\"none\"/>\n",
              "    <path d=\"M18.56 5.44l.94 2.06.94-2.06 2.06-.94-2.06-.94-.94-2.06-.94 2.06-2.06.94zm-11 1L8.5 8.5l.94-2.06 2.06-.94-2.06-.94L8.5 2.5l-.94 2.06-2.06.94zm10 10l.94 2.06.94-2.06 2.06-.94-2.06-.94-.94-2.06-.94 2.06-2.06.94z\"/><path d=\"M17.41 7.96l-1.37-1.37c-.4-.4-.92-.59-1.43-.59-.52 0-1.04.2-1.43.59L10.3 9.45l-7.72 7.72c-.78.78-.78 2.05 0 2.83L4 21.41c.39.39.9.59 1.41.59.51 0 1.02-.2 1.41-.59l7.78-7.78 2.81-2.81c.8-.78.8-2.07 0-2.86zM5.41 20L4 18.59l7.72-7.72 1.47 1.35L5.41 20z\"/>\n",
              "  </svg>\n",
              "      </button>\n",
              "      \n",
              "  <style>\n",
              "    .colab-df-container {\n",
              "      display:flex;\n",
              "      flex-wrap:wrap;\n",
              "      gap: 12px;\n",
              "    }\n",
              "\n",
              "    .colab-df-convert {\n",
              "      background-color: #E8F0FE;\n",
              "      border: none;\n",
              "      border-radius: 50%;\n",
              "      cursor: pointer;\n",
              "      display: none;\n",
              "      fill: #1967D2;\n",
              "      height: 32px;\n",
              "      padding: 0 0 0 0;\n",
              "      width: 32px;\n",
              "    }\n",
              "\n",
              "    .colab-df-convert:hover {\n",
              "      background-color: #E2EBFA;\n",
              "      box-shadow: 0px 1px 2px rgba(60, 64, 67, 0.3), 0px 1px 3px 1px rgba(60, 64, 67, 0.15);\n",
              "      fill: #174EA6;\n",
              "    }\n",
              "\n",
              "    [theme=dark] .colab-df-convert {\n",
              "      background-color: #3B4455;\n",
              "      fill: #D2E3FC;\n",
              "    }\n",
              "\n",
              "    [theme=dark] .colab-df-convert:hover {\n",
              "      background-color: #434B5C;\n",
              "      box-shadow: 0px 1px 3px 1px rgba(0, 0, 0, 0.15);\n",
              "      filter: drop-shadow(0px 1px 2px rgba(0, 0, 0, 0.3));\n",
              "      fill: #FFFFFF;\n",
              "    }\n",
              "  </style>\n",
              "\n",
              "      <script>\n",
              "        const buttonEl =\n",
              "          document.querySelector('#df-f9f13271-a7e5-407c-ae66-1822f0141406 button.colab-df-convert');\n",
              "        buttonEl.style.display =\n",
              "          google.colab.kernel.accessAllowed ? 'block' : 'none';\n",
              "\n",
              "        async function convertToInteractive(key) {\n",
              "          const element = document.querySelector('#df-f9f13271-a7e5-407c-ae66-1822f0141406');\n",
              "          const dataTable =\n",
              "            await google.colab.kernel.invokeFunction('convertToInteractive',\n",
              "                                                     [key], {});\n",
              "          if (!dataTable) return;\n",
              "\n",
              "          const docLinkHtml = 'Like what you see? Visit the ' +\n",
              "            '<a target=\"_blank\" href=https://colab.research.google.com/notebooks/data_table.ipynb>data table notebook</a>'\n",
              "            + ' to learn more about interactive tables.';\n",
              "          element.innerHTML = '';\n",
              "          dataTable['output_type'] = 'display_data';\n",
              "          await google.colab.output.renderOutput(dataTable, element);\n",
              "          const docLink = document.createElement('div');\n",
              "          docLink.innerHTML = docLinkHtml;\n",
              "          element.appendChild(docLink);\n",
              "        }\n",
              "      </script>\n",
              "    </div>\n",
              "  </div>\n",
              "  "
            ]
          },
          "metadata": {},
          "execution_count": 91
        }
      ],
      "source": [
        "test.head()"
      ]
    },
    {
      "cell_type": "code",
      "execution_count": 92,
      "id": "bb86a127",
      "metadata": {
        "execution": {
          "iopub.execute_input": "2022-12-21T15:46:34.897222Z",
          "iopub.status.busy": "2022-12-21T15:46:34.896871Z",
          "iopub.status.idle": "2022-12-21T15:46:34.920888Z",
          "shell.execute_reply": "2022-12-21T15:46:34.919845Z"
        },
        "papermill": {
          "duration": 0.033402,
          "end_time": "2022-12-21T15:46:34.923452",
          "exception": false,
          "start_time": "2022-12-21T15:46:34.890050",
          "status": "completed"
        },
        "tags": [],
        "colab": {
          "base_uri": "https://localhost:8080/",
          "height": 409
        },
        "id": "bb86a127",
        "outputId": "0cc20914-32a2-41cb-9bff-e0be9d888218"
      },
      "outputs": [
        {
          "output_type": "execute_result",
          "data": {
            "text/plain": [
              "   Id          Artist Name       Track Name  Popularity  danceability  energy  \\\n",
              "0   1    Marina Maximilian       Not Afraid        37.0         0.334   0.536   \n",
              "1   2       The Black Keys  Howlin' for You        67.0         0.725   0.747   \n",
              "2   3  Royal & the Serpent          phuck u         NaN         0.584   0.804   \n",
              "3   4   Detroit Blues Band      Missing You        12.0         0.515   0.308   \n",
              "4   5         Coast Contra          My Lady        48.0         0.565   0.777   \n",
              "\n",
              "    key  loudness  mode  speechiness  acousticness  instrumentalness  \\\n",
              "0   9.0    -6.649     0       0.0381      0.378000               NaN   \n",
              "1  11.0    -5.545     1       0.0876      0.027200            0.0468   \n",
              "2   7.0    -6.094     1       0.0619      0.000968            0.6350   \n",
              "3   NaN   -14.711     1       0.0312      0.907000            0.0213   \n",
              "4   6.0    -5.096     0       0.2490      0.183000               NaN   \n",
              "\n",
              "   liveness  valence    tempo  duration_in min/ms  time_signature  Class  \n",
              "0     0.106    0.235  152.429            204947.0               4      9  \n",
              "1     0.104    0.380  132.921            191956.0               4      6  \n",
              "2     0.284    0.635  159.953            161037.0               4     10  \n",
              "3     0.300    0.501  172.472            298093.0               3      2  \n",
              "4     0.211    0.619   88.311            254145.0               4      5  "
            ],
            "text/html": [
              "\n",
              "  <div id=\"df-b3bafe3c-be37-4750-a267-acbe465ae88e\">\n",
              "    <div class=\"colab-df-container\">\n",
              "      <div>\n",
              "<style scoped>\n",
              "    .dataframe tbody tr th:only-of-type {\n",
              "        vertical-align: middle;\n",
              "    }\n",
              "\n",
              "    .dataframe tbody tr th {\n",
              "        vertical-align: top;\n",
              "    }\n",
              "\n",
              "    .dataframe thead th {\n",
              "        text-align: right;\n",
              "    }\n",
              "</style>\n",
              "<table border=\"1\" class=\"dataframe\">\n",
              "  <thead>\n",
              "    <tr style=\"text-align: right;\">\n",
              "      <th></th>\n",
              "      <th>Id</th>\n",
              "      <th>Artist Name</th>\n",
              "      <th>Track Name</th>\n",
              "      <th>Popularity</th>\n",
              "      <th>danceability</th>\n",
              "      <th>energy</th>\n",
              "      <th>key</th>\n",
              "      <th>loudness</th>\n",
              "      <th>mode</th>\n",
              "      <th>speechiness</th>\n",
              "      <th>acousticness</th>\n",
              "      <th>instrumentalness</th>\n",
              "      <th>liveness</th>\n",
              "      <th>valence</th>\n",
              "      <th>tempo</th>\n",
              "      <th>duration_in min/ms</th>\n",
              "      <th>time_signature</th>\n",
              "      <th>Class</th>\n",
              "    </tr>\n",
              "  </thead>\n",
              "  <tbody>\n",
              "    <tr>\n",
              "      <th>0</th>\n",
              "      <td>1</td>\n",
              "      <td>Marina Maximilian</td>\n",
              "      <td>Not Afraid</td>\n",
              "      <td>37.0</td>\n",
              "      <td>0.334</td>\n",
              "      <td>0.536</td>\n",
              "      <td>9.0</td>\n",
              "      <td>-6.649</td>\n",
              "      <td>0</td>\n",
              "      <td>0.0381</td>\n",
              "      <td>0.378000</td>\n",
              "      <td>NaN</td>\n",
              "      <td>0.106</td>\n",
              "      <td>0.235</td>\n",
              "      <td>152.429</td>\n",
              "      <td>204947.0</td>\n",
              "      <td>4</td>\n",
              "      <td>9</td>\n",
              "    </tr>\n",
              "    <tr>\n",
              "      <th>1</th>\n",
              "      <td>2</td>\n",
              "      <td>The Black Keys</td>\n",
              "      <td>Howlin' for You</td>\n",
              "      <td>67.0</td>\n",
              "      <td>0.725</td>\n",
              "      <td>0.747</td>\n",
              "      <td>11.0</td>\n",
              "      <td>-5.545</td>\n",
              "      <td>1</td>\n",
              "      <td>0.0876</td>\n",
              "      <td>0.027200</td>\n",
              "      <td>0.0468</td>\n",
              "      <td>0.104</td>\n",
              "      <td>0.380</td>\n",
              "      <td>132.921</td>\n",
              "      <td>191956.0</td>\n",
              "      <td>4</td>\n",
              "      <td>6</td>\n",
              "    </tr>\n",
              "    <tr>\n",
              "      <th>2</th>\n",
              "      <td>3</td>\n",
              "      <td>Royal &amp; the Serpent</td>\n",
              "      <td>phuck u</td>\n",
              "      <td>NaN</td>\n",
              "      <td>0.584</td>\n",
              "      <td>0.804</td>\n",
              "      <td>7.0</td>\n",
              "      <td>-6.094</td>\n",
              "      <td>1</td>\n",
              "      <td>0.0619</td>\n",
              "      <td>0.000968</td>\n",
              "      <td>0.6350</td>\n",
              "      <td>0.284</td>\n",
              "      <td>0.635</td>\n",
              "      <td>159.953</td>\n",
              "      <td>161037.0</td>\n",
              "      <td>4</td>\n",
              "      <td>10</td>\n",
              "    </tr>\n",
              "    <tr>\n",
              "      <th>3</th>\n",
              "      <td>4</td>\n",
              "      <td>Detroit Blues Band</td>\n",
              "      <td>Missing You</td>\n",
              "      <td>12.0</td>\n",
              "      <td>0.515</td>\n",
              "      <td>0.308</td>\n",
              "      <td>NaN</td>\n",
              "      <td>-14.711</td>\n",
              "      <td>1</td>\n",
              "      <td>0.0312</td>\n",
              "      <td>0.907000</td>\n",
              "      <td>0.0213</td>\n",
              "      <td>0.300</td>\n",
              "      <td>0.501</td>\n",
              "      <td>172.472</td>\n",
              "      <td>298093.0</td>\n",
              "      <td>3</td>\n",
              "      <td>2</td>\n",
              "    </tr>\n",
              "    <tr>\n",
              "      <th>4</th>\n",
              "      <td>5</td>\n",
              "      <td>Coast Contra</td>\n",
              "      <td>My Lady</td>\n",
              "      <td>48.0</td>\n",
              "      <td>0.565</td>\n",
              "      <td>0.777</td>\n",
              "      <td>6.0</td>\n",
              "      <td>-5.096</td>\n",
              "      <td>0</td>\n",
              "      <td>0.2490</td>\n",
              "      <td>0.183000</td>\n",
              "      <td>NaN</td>\n",
              "      <td>0.211</td>\n",
              "      <td>0.619</td>\n",
              "      <td>88.311</td>\n",
              "      <td>254145.0</td>\n",
              "      <td>4</td>\n",
              "      <td>5</td>\n",
              "    </tr>\n",
              "  </tbody>\n",
              "</table>\n",
              "</div>\n",
              "      <button class=\"colab-df-convert\" onclick=\"convertToInteractive('df-b3bafe3c-be37-4750-a267-acbe465ae88e')\"\n",
              "              title=\"Convert this dataframe to an interactive table.\"\n",
              "              style=\"display:none;\">\n",
              "        \n",
              "  <svg xmlns=\"http://www.w3.org/2000/svg\" height=\"24px\"viewBox=\"0 0 24 24\"\n",
              "       width=\"24px\">\n",
              "    <path d=\"M0 0h24v24H0V0z\" fill=\"none\"/>\n",
              "    <path d=\"M18.56 5.44l.94 2.06.94-2.06 2.06-.94-2.06-.94-.94-2.06-.94 2.06-2.06.94zm-11 1L8.5 8.5l.94-2.06 2.06-.94-2.06-.94L8.5 2.5l-.94 2.06-2.06.94zm10 10l.94 2.06.94-2.06 2.06-.94-2.06-.94-.94-2.06-.94 2.06-2.06.94z\"/><path d=\"M17.41 7.96l-1.37-1.37c-.4-.4-.92-.59-1.43-.59-.52 0-1.04.2-1.43.59L10.3 9.45l-7.72 7.72c-.78.78-.78 2.05 0 2.83L4 21.41c.39.39.9.59 1.41.59.51 0 1.02-.2 1.41-.59l7.78-7.78 2.81-2.81c.8-.78.8-2.07 0-2.86zM5.41 20L4 18.59l7.72-7.72 1.47 1.35L5.41 20z\"/>\n",
              "  </svg>\n",
              "      </button>\n",
              "      \n",
              "  <style>\n",
              "    .colab-df-container {\n",
              "      display:flex;\n",
              "      flex-wrap:wrap;\n",
              "      gap: 12px;\n",
              "    }\n",
              "\n",
              "    .colab-df-convert {\n",
              "      background-color: #E8F0FE;\n",
              "      border: none;\n",
              "      border-radius: 50%;\n",
              "      cursor: pointer;\n",
              "      display: none;\n",
              "      fill: #1967D2;\n",
              "      height: 32px;\n",
              "      padding: 0 0 0 0;\n",
              "      width: 32px;\n",
              "    }\n",
              "\n",
              "    .colab-df-convert:hover {\n",
              "      background-color: #E2EBFA;\n",
              "      box-shadow: 0px 1px 2px rgba(60, 64, 67, 0.3), 0px 1px 3px 1px rgba(60, 64, 67, 0.15);\n",
              "      fill: #174EA6;\n",
              "    }\n",
              "\n",
              "    [theme=dark] .colab-df-convert {\n",
              "      background-color: #3B4455;\n",
              "      fill: #D2E3FC;\n",
              "    }\n",
              "\n",
              "    [theme=dark] .colab-df-convert:hover {\n",
              "      background-color: #434B5C;\n",
              "      box-shadow: 0px 1px 3px 1px rgba(0, 0, 0, 0.15);\n",
              "      filter: drop-shadow(0px 1px 2px rgba(0, 0, 0, 0.3));\n",
              "      fill: #FFFFFF;\n",
              "    }\n",
              "  </style>\n",
              "\n",
              "      <script>\n",
              "        const buttonEl =\n",
              "          document.querySelector('#df-b3bafe3c-be37-4750-a267-acbe465ae88e button.colab-df-convert');\n",
              "        buttonEl.style.display =\n",
              "          google.colab.kernel.accessAllowed ? 'block' : 'none';\n",
              "\n",
              "        async function convertToInteractive(key) {\n",
              "          const element = document.querySelector('#df-b3bafe3c-be37-4750-a267-acbe465ae88e');\n",
              "          const dataTable =\n",
              "            await google.colab.kernel.invokeFunction('convertToInteractive',\n",
              "                                                     [key], {});\n",
              "          if (!dataTable) return;\n",
              "\n",
              "          const docLinkHtml = 'Like what you see? Visit the ' +\n",
              "            '<a target=\"_blank\" href=https://colab.research.google.com/notebooks/data_table.ipynb>data table notebook</a>'\n",
              "            + ' to learn more about interactive tables.';\n",
              "          element.innerHTML = '';\n",
              "          dataTable['output_type'] = 'display_data';\n",
              "          await google.colab.output.renderOutput(dataTable, element);\n",
              "          const docLink = document.createElement('div');\n",
              "          docLink.innerHTML = docLinkHtml;\n",
              "          element.appendChild(docLink);\n",
              "        }\n",
              "      </script>\n",
              "    </div>\n",
              "  </div>\n",
              "  "
            ]
          },
          "metadata": {},
          "execution_count": 92
        }
      ],
      "source": [
        "train.head()"
      ]
    },
    {
      "cell_type": "code",
      "source": [
        "train.info()"
      ],
      "metadata": {
        "colab": {
          "base_uri": "https://localhost:8080/"
        },
        "id": "Ze_o2FLlc_3X",
        "outputId": "f296fbe0-b2b8-4264-8c33-bf4a0caaebd3"
      },
      "id": "Ze_o2FLlc_3X",
      "execution_count": 93,
      "outputs": [
        {
          "output_type": "stream",
          "name": "stdout",
          "text": [
            "<class 'pandas.core.frame.DataFrame'>\n",
            "RangeIndex: 14396 entries, 0 to 14395\n",
            "Data columns (total 18 columns):\n",
            " #   Column              Non-Null Count  Dtype  \n",
            "---  ------              --------------  -----  \n",
            " 0   Id                  14396 non-null  int64  \n",
            " 1   Artist Name         14396 non-null  object \n",
            " 2   Track Name          14396 non-null  object \n",
            " 3   Popularity          14063 non-null  float64\n",
            " 4   danceability        14396 non-null  float64\n",
            " 5   energy              14396 non-null  float64\n",
            " 6   key                 12787 non-null  float64\n",
            " 7   loudness            14396 non-null  float64\n",
            " 8   mode                14396 non-null  int64  \n",
            " 9   speechiness         14396 non-null  float64\n",
            " 10  acousticness        14396 non-null  float64\n",
            " 11  instrumentalness    10855 non-null  float64\n",
            " 12  liveness            14396 non-null  float64\n",
            " 13  valence             14396 non-null  float64\n",
            " 14  tempo               14396 non-null  float64\n",
            " 15  duration_in min/ms  14396 non-null  float64\n",
            " 16  time_signature      14396 non-null  int64  \n",
            " 17  Class               14396 non-null  int64  \n",
            "dtypes: float64(12), int64(4), object(2)\n",
            "memory usage: 2.0+ MB\n"
          ]
        }
      ]
    },
    {
      "cell_type": "code",
      "source": [
        "train.describe()"
      ],
      "metadata": {
        "colab": {
          "base_uri": "https://localhost:8080/",
          "height": 381
        },
        "id": "UoiRRMapdMtL",
        "outputId": "34c5b75d-8c5f-49a9-c4ba-d16a506f2f4f"
      },
      "id": "UoiRRMapdMtL",
      "execution_count": 94,
      "outputs": [
        {
          "output_type": "execute_result",
          "data": {
            "text/plain": [
              "                 Id    Popularity  danceability        energy           key  \\\n",
              "count  14396.000000  14063.000000  14396.000000  14396.000000  12787.000000   \n",
              "mean    7198.500000     44.525208      0.543105      0.662422      5.953781   \n",
              "std     4155.911573     17.418940      0.165517      0.235967      3.200013   \n",
              "min        1.000000      1.000000      0.059600      0.001210      1.000000   \n",
              "25%     3599.750000     33.000000      0.432000      0.508000      3.000000   \n",
              "50%     7198.500000     44.000000      0.545000      0.699000      6.000000   \n",
              "75%    10797.250000     56.000000      0.658000      0.861000      9.000000   \n",
              "max    14396.000000    100.000000      0.989000      1.000000     11.000000   \n",
              "\n",
              "           loudness          mode   speechiness  acousticness  \\\n",
              "count  14396.000000  14396.000000  14396.000000  14396.000000   \n",
              "mean      -7.900852      0.640247      0.080181      0.246746   \n",
              "std        4.057362      0.479944      0.085157      0.310922   \n",
              "min      -39.952000      0.000000      0.022500      0.000000   \n",
              "25%       -9.538000      0.000000      0.034800      0.004280   \n",
              "50%       -7.013500      1.000000      0.047100      0.081450   \n",
              "75%       -5.162000      1.000000      0.083100      0.432250   \n",
              "max        1.342000      1.000000      0.955000      0.996000   \n",
              "\n",
              "       instrumentalness      liveness       valence         tempo  \\\n",
              "count      10855.000000  14396.000000  14396.000000  14396.000000   \n",
              "mean           0.178129      0.195782      0.486379    122.695372   \n",
              "std            0.304266      0.159258      0.239476     29.538490   \n",
              "min            0.000001      0.011900      0.021500     30.557000   \n",
              "25%            0.000088      0.097275      0.299000     99.799000   \n",
              "50%            0.003920      0.129000      0.480500    120.060000   \n",
              "75%            0.201000      0.256000      0.672000    141.988250   \n",
              "max            0.996000      0.992000      0.986000    217.416000   \n",
              "\n",
              "       duration_in min/ms  time_signature         Class  \n",
              "count        1.439600e+04    14396.000000  14396.000000  \n",
              "mean         2.000942e+05        3.924354      6.695679  \n",
              "std          1.116891e+05        0.359520      3.206170  \n",
              "min          5.016500e-01        1.000000      0.000000  \n",
              "25%          1.654458e+05        4.000000      5.000000  \n",
              "50%          2.089410e+05        4.000000      8.000000  \n",
              "75%          2.522470e+05        4.000000     10.000000  \n",
              "max          1.477187e+06        5.000000     10.000000  "
            ],
            "text/html": [
              "\n",
              "  <div id=\"df-ba7b8097-610e-46dc-9032-fad84c66c04e\">\n",
              "    <div class=\"colab-df-container\">\n",
              "      <div>\n",
              "<style scoped>\n",
              "    .dataframe tbody tr th:only-of-type {\n",
              "        vertical-align: middle;\n",
              "    }\n",
              "\n",
              "    .dataframe tbody tr th {\n",
              "        vertical-align: top;\n",
              "    }\n",
              "\n",
              "    .dataframe thead th {\n",
              "        text-align: right;\n",
              "    }\n",
              "</style>\n",
              "<table border=\"1\" class=\"dataframe\">\n",
              "  <thead>\n",
              "    <tr style=\"text-align: right;\">\n",
              "      <th></th>\n",
              "      <th>Id</th>\n",
              "      <th>Popularity</th>\n",
              "      <th>danceability</th>\n",
              "      <th>energy</th>\n",
              "      <th>key</th>\n",
              "      <th>loudness</th>\n",
              "      <th>mode</th>\n",
              "      <th>speechiness</th>\n",
              "      <th>acousticness</th>\n",
              "      <th>instrumentalness</th>\n",
              "      <th>liveness</th>\n",
              "      <th>valence</th>\n",
              "      <th>tempo</th>\n",
              "      <th>duration_in min/ms</th>\n",
              "      <th>time_signature</th>\n",
              "      <th>Class</th>\n",
              "    </tr>\n",
              "  </thead>\n",
              "  <tbody>\n",
              "    <tr>\n",
              "      <th>count</th>\n",
              "      <td>14396.000000</td>\n",
              "      <td>14063.000000</td>\n",
              "      <td>14396.000000</td>\n",
              "      <td>14396.000000</td>\n",
              "      <td>12787.000000</td>\n",
              "      <td>14396.000000</td>\n",
              "      <td>14396.000000</td>\n",
              "      <td>14396.000000</td>\n",
              "      <td>14396.000000</td>\n",
              "      <td>10855.000000</td>\n",
              "      <td>14396.000000</td>\n",
              "      <td>14396.000000</td>\n",
              "      <td>14396.000000</td>\n",
              "      <td>1.439600e+04</td>\n",
              "      <td>14396.000000</td>\n",
              "      <td>14396.000000</td>\n",
              "    </tr>\n",
              "    <tr>\n",
              "      <th>mean</th>\n",
              "      <td>7198.500000</td>\n",
              "      <td>44.525208</td>\n",
              "      <td>0.543105</td>\n",
              "      <td>0.662422</td>\n",
              "      <td>5.953781</td>\n",
              "      <td>-7.900852</td>\n",
              "      <td>0.640247</td>\n",
              "      <td>0.080181</td>\n",
              "      <td>0.246746</td>\n",
              "      <td>0.178129</td>\n",
              "      <td>0.195782</td>\n",
              "      <td>0.486379</td>\n",
              "      <td>122.695372</td>\n",
              "      <td>2.000942e+05</td>\n",
              "      <td>3.924354</td>\n",
              "      <td>6.695679</td>\n",
              "    </tr>\n",
              "    <tr>\n",
              "      <th>std</th>\n",
              "      <td>4155.911573</td>\n",
              "      <td>17.418940</td>\n",
              "      <td>0.165517</td>\n",
              "      <td>0.235967</td>\n",
              "      <td>3.200013</td>\n",
              "      <td>4.057362</td>\n",
              "      <td>0.479944</td>\n",
              "      <td>0.085157</td>\n",
              "      <td>0.310922</td>\n",
              "      <td>0.304266</td>\n",
              "      <td>0.159258</td>\n",
              "      <td>0.239476</td>\n",
              "      <td>29.538490</td>\n",
              "      <td>1.116891e+05</td>\n",
              "      <td>0.359520</td>\n",
              "      <td>3.206170</td>\n",
              "    </tr>\n",
              "    <tr>\n",
              "      <th>min</th>\n",
              "      <td>1.000000</td>\n",
              "      <td>1.000000</td>\n",
              "      <td>0.059600</td>\n",
              "      <td>0.001210</td>\n",
              "      <td>1.000000</td>\n",
              "      <td>-39.952000</td>\n",
              "      <td>0.000000</td>\n",
              "      <td>0.022500</td>\n",
              "      <td>0.000000</td>\n",
              "      <td>0.000001</td>\n",
              "      <td>0.011900</td>\n",
              "      <td>0.021500</td>\n",
              "      <td>30.557000</td>\n",
              "      <td>5.016500e-01</td>\n",
              "      <td>1.000000</td>\n",
              "      <td>0.000000</td>\n",
              "    </tr>\n",
              "    <tr>\n",
              "      <th>25%</th>\n",
              "      <td>3599.750000</td>\n",
              "      <td>33.000000</td>\n",
              "      <td>0.432000</td>\n",
              "      <td>0.508000</td>\n",
              "      <td>3.000000</td>\n",
              "      <td>-9.538000</td>\n",
              "      <td>0.000000</td>\n",
              "      <td>0.034800</td>\n",
              "      <td>0.004280</td>\n",
              "      <td>0.000088</td>\n",
              "      <td>0.097275</td>\n",
              "      <td>0.299000</td>\n",
              "      <td>99.799000</td>\n",
              "      <td>1.654458e+05</td>\n",
              "      <td>4.000000</td>\n",
              "      <td>5.000000</td>\n",
              "    </tr>\n",
              "    <tr>\n",
              "      <th>50%</th>\n",
              "      <td>7198.500000</td>\n",
              "      <td>44.000000</td>\n",
              "      <td>0.545000</td>\n",
              "      <td>0.699000</td>\n",
              "      <td>6.000000</td>\n",
              "      <td>-7.013500</td>\n",
              "      <td>1.000000</td>\n",
              "      <td>0.047100</td>\n",
              "      <td>0.081450</td>\n",
              "      <td>0.003920</td>\n",
              "      <td>0.129000</td>\n",
              "      <td>0.480500</td>\n",
              "      <td>120.060000</td>\n",
              "      <td>2.089410e+05</td>\n",
              "      <td>4.000000</td>\n",
              "      <td>8.000000</td>\n",
              "    </tr>\n",
              "    <tr>\n",
              "      <th>75%</th>\n",
              "      <td>10797.250000</td>\n",
              "      <td>56.000000</td>\n",
              "      <td>0.658000</td>\n",
              "      <td>0.861000</td>\n",
              "      <td>9.000000</td>\n",
              "      <td>-5.162000</td>\n",
              "      <td>1.000000</td>\n",
              "      <td>0.083100</td>\n",
              "      <td>0.432250</td>\n",
              "      <td>0.201000</td>\n",
              "      <td>0.256000</td>\n",
              "      <td>0.672000</td>\n",
              "      <td>141.988250</td>\n",
              "      <td>2.522470e+05</td>\n",
              "      <td>4.000000</td>\n",
              "      <td>10.000000</td>\n",
              "    </tr>\n",
              "    <tr>\n",
              "      <th>max</th>\n",
              "      <td>14396.000000</td>\n",
              "      <td>100.000000</td>\n",
              "      <td>0.989000</td>\n",
              "      <td>1.000000</td>\n",
              "      <td>11.000000</td>\n",
              "      <td>1.342000</td>\n",
              "      <td>1.000000</td>\n",
              "      <td>0.955000</td>\n",
              "      <td>0.996000</td>\n",
              "      <td>0.996000</td>\n",
              "      <td>0.992000</td>\n",
              "      <td>0.986000</td>\n",
              "      <td>217.416000</td>\n",
              "      <td>1.477187e+06</td>\n",
              "      <td>5.000000</td>\n",
              "      <td>10.000000</td>\n",
              "    </tr>\n",
              "  </tbody>\n",
              "</table>\n",
              "</div>\n",
              "      <button class=\"colab-df-convert\" onclick=\"convertToInteractive('df-ba7b8097-610e-46dc-9032-fad84c66c04e')\"\n",
              "              title=\"Convert this dataframe to an interactive table.\"\n",
              "              style=\"display:none;\">\n",
              "        \n",
              "  <svg xmlns=\"http://www.w3.org/2000/svg\" height=\"24px\"viewBox=\"0 0 24 24\"\n",
              "       width=\"24px\">\n",
              "    <path d=\"M0 0h24v24H0V0z\" fill=\"none\"/>\n",
              "    <path d=\"M18.56 5.44l.94 2.06.94-2.06 2.06-.94-2.06-.94-.94-2.06-.94 2.06-2.06.94zm-11 1L8.5 8.5l.94-2.06 2.06-.94-2.06-.94L8.5 2.5l-.94 2.06-2.06.94zm10 10l.94 2.06.94-2.06 2.06-.94-2.06-.94-.94-2.06-.94 2.06-2.06.94z\"/><path d=\"M17.41 7.96l-1.37-1.37c-.4-.4-.92-.59-1.43-.59-.52 0-1.04.2-1.43.59L10.3 9.45l-7.72 7.72c-.78.78-.78 2.05 0 2.83L4 21.41c.39.39.9.59 1.41.59.51 0 1.02-.2 1.41-.59l7.78-7.78 2.81-2.81c.8-.78.8-2.07 0-2.86zM5.41 20L4 18.59l7.72-7.72 1.47 1.35L5.41 20z\"/>\n",
              "  </svg>\n",
              "      </button>\n",
              "      \n",
              "  <style>\n",
              "    .colab-df-container {\n",
              "      display:flex;\n",
              "      flex-wrap:wrap;\n",
              "      gap: 12px;\n",
              "    }\n",
              "\n",
              "    .colab-df-convert {\n",
              "      background-color: #E8F0FE;\n",
              "      border: none;\n",
              "      border-radius: 50%;\n",
              "      cursor: pointer;\n",
              "      display: none;\n",
              "      fill: #1967D2;\n",
              "      height: 32px;\n",
              "      padding: 0 0 0 0;\n",
              "      width: 32px;\n",
              "    }\n",
              "\n",
              "    .colab-df-convert:hover {\n",
              "      background-color: #E2EBFA;\n",
              "      box-shadow: 0px 1px 2px rgba(60, 64, 67, 0.3), 0px 1px 3px 1px rgba(60, 64, 67, 0.15);\n",
              "      fill: #174EA6;\n",
              "    }\n",
              "\n",
              "    [theme=dark] .colab-df-convert {\n",
              "      background-color: #3B4455;\n",
              "      fill: #D2E3FC;\n",
              "    }\n",
              "\n",
              "    [theme=dark] .colab-df-convert:hover {\n",
              "      background-color: #434B5C;\n",
              "      box-shadow: 0px 1px 3px 1px rgba(0, 0, 0, 0.15);\n",
              "      filter: drop-shadow(0px 1px 2px rgba(0, 0, 0, 0.3));\n",
              "      fill: #FFFFFF;\n",
              "    }\n",
              "  </style>\n",
              "\n",
              "      <script>\n",
              "        const buttonEl =\n",
              "          document.querySelector('#df-ba7b8097-610e-46dc-9032-fad84c66c04e button.colab-df-convert');\n",
              "        buttonEl.style.display =\n",
              "          google.colab.kernel.accessAllowed ? 'block' : 'none';\n",
              "\n",
              "        async function convertToInteractive(key) {\n",
              "          const element = document.querySelector('#df-ba7b8097-610e-46dc-9032-fad84c66c04e');\n",
              "          const dataTable =\n",
              "            await google.colab.kernel.invokeFunction('convertToInteractive',\n",
              "                                                     [key], {});\n",
              "          if (!dataTable) return;\n",
              "\n",
              "          const docLinkHtml = 'Like what you see? Visit the ' +\n",
              "            '<a target=\"_blank\" href=https://colab.research.google.com/notebooks/data_table.ipynb>data table notebook</a>'\n",
              "            + ' to learn more about interactive tables.';\n",
              "          element.innerHTML = '';\n",
              "          dataTable['output_type'] = 'display_data';\n",
              "          await google.colab.output.renderOutput(dataTable, element);\n",
              "          const docLink = document.createElement('div');\n",
              "          docLink.innerHTML = docLinkHtml;\n",
              "          element.appendChild(docLink);\n",
              "        }\n",
              "      </script>\n",
              "    </div>\n",
              "  </div>\n",
              "  "
            ]
          },
          "metadata": {},
          "execution_count": 94
        }
      ]
    },
    {
      "cell_type": "code",
      "source": [
        "test.info()"
      ],
      "metadata": {
        "colab": {
          "base_uri": "https://localhost:8080/"
        },
        "id": "lTOQP296dj-R",
        "outputId": "9751247e-ccd6-4b08-f5e2-1ae91c0d71ec"
      },
      "id": "lTOQP296dj-R",
      "execution_count": 95,
      "outputs": [
        {
          "output_type": "stream",
          "name": "stdout",
          "text": [
            "<class 'pandas.core.frame.DataFrame'>\n",
            "RangeIndex: 3600 entries, 0 to 3599\n",
            "Data columns (total 17 columns):\n",
            " #   Column              Non-Null Count  Dtype  \n",
            "---  ------              --------------  -----  \n",
            " 0   Id                  3600 non-null   int64  \n",
            " 1   Artist Name         3600 non-null   object \n",
            " 2   Track Name          3600 non-null   object \n",
            " 3   Popularity          3505 non-null   float64\n",
            " 4   danceability        3600 non-null   float64\n",
            " 5   energy              3600 non-null   float64\n",
            " 6   key                 3195 non-null   float64\n",
            " 7   loudness            3600 non-null   float64\n",
            " 8   mode                3600 non-null   int64  \n",
            " 9   speechiness         3600 non-null   float64\n",
            " 10  acousticness        3600 non-null   float64\n",
            " 11  instrumentalness    2764 non-null   float64\n",
            " 12  liveness            3600 non-null   float64\n",
            " 13  valence             3600 non-null   float64\n",
            " 14  tempo               3600 non-null   float64\n",
            " 15  duration_in min/ms  3600 non-null   float64\n",
            " 16  time_signature      3600 non-null   int64  \n",
            "dtypes: float64(12), int64(3), object(2)\n",
            "memory usage: 478.2+ KB\n"
          ]
        }
      ]
    },
    {
      "cell_type": "code",
      "source": [
        " test.describe()"
      ],
      "metadata": {
        "colab": {
          "base_uri": "https://localhost:8080/",
          "height": 381
        },
        "id": "5RNr7ZszdXXx",
        "outputId": "d059f28e-d671-4d61-fb75-c71f421831e6"
      },
      "id": "5RNr7ZszdXXx",
      "execution_count": 96,
      "outputs": [
        {
          "output_type": "execute_result",
          "data": {
            "text/plain": [
              "                 Id   Popularity  danceability       energy          key  \\\n",
              "count   3600.000000  3505.000000   3600.000000  3600.000000  3195.000000   \n",
              "mean   16196.500000    44.459629      0.544744     0.664197     5.947105   \n",
              "std     1039.374812    17.461328      0.169257     0.233010     3.184676   \n",
              "min    14397.000000     1.000000      0.064600     0.000020     1.000000   \n",
              "25%    15296.750000    33.000000      0.430000     0.512000     3.000000   \n",
              "50%    16196.500000    44.000000      0.549000     0.703000     6.000000   \n",
              "75%    17096.250000    56.000000      0.664000     0.859000     9.000000   \n",
              "max    17996.000000    97.000000      0.970000     0.999000    11.000000   \n",
              "\n",
              "          loudness         mode  speechiness  acousticness  instrumentalness  \\\n",
              "count  3600.000000  3600.000000  3600.000000   3600.000000       2764.000000   \n",
              "mean     -7.949879     0.622778     0.077813      0.248425          0.175336   \n",
              "std       4.016468     0.484759     0.076914      0.309510          0.303238   \n",
              "min     -34.797000     0.000000     0.022700      0.000001          0.000001   \n",
              "25%      -9.532500     0.000000     0.034800      0.004488          0.000093   \n",
              "50%      -7.043500     1.000000     0.048750      0.080850          0.003755   \n",
              "75%      -5.282250     1.000000     0.082800      0.441250          0.197250   \n",
              "max       1.355000     1.000000     0.886000      0.996000          0.973000   \n",
              "\n",
              "          liveness      valence        tempo  duration_in min/ms  \\\n",
              "count  3600.000000  3600.000000  3600.000000        3.600000e+03   \n",
              "mean      0.197720     0.485527   122.335063        2.033447e+05   \n",
              "std       0.159040     0.243082    29.705640        1.131593e+05   \n",
              "min       0.014400     0.018300    48.718000        9.871167e-01   \n",
              "25%       0.098575     0.291000    98.515750        1.688360e+05   \n",
              "50%       0.131000     0.481000   120.091000        2.103355e+05   \n",
              "75%       0.265250     0.674000   141.846750        2.533958e+05   \n",
              "max       1.000000     0.984000   214.396000        1.412451e+06   \n",
              "\n",
              "       time_signature  \n",
              "count     3600.000000  \n",
              "mean         3.922778  \n",
              "std          0.369936  \n",
              "min          1.000000  \n",
              "25%          4.000000  \n",
              "50%          4.000000  \n",
              "75%          4.000000  \n",
              "max          5.000000  "
            ],
            "text/html": [
              "\n",
              "  <div id=\"df-e213b950-6cbb-411e-a73d-5862179752b0\">\n",
              "    <div class=\"colab-df-container\">\n",
              "      <div>\n",
              "<style scoped>\n",
              "    .dataframe tbody tr th:only-of-type {\n",
              "        vertical-align: middle;\n",
              "    }\n",
              "\n",
              "    .dataframe tbody tr th {\n",
              "        vertical-align: top;\n",
              "    }\n",
              "\n",
              "    .dataframe thead th {\n",
              "        text-align: right;\n",
              "    }\n",
              "</style>\n",
              "<table border=\"1\" class=\"dataframe\">\n",
              "  <thead>\n",
              "    <tr style=\"text-align: right;\">\n",
              "      <th></th>\n",
              "      <th>Id</th>\n",
              "      <th>Popularity</th>\n",
              "      <th>danceability</th>\n",
              "      <th>energy</th>\n",
              "      <th>key</th>\n",
              "      <th>loudness</th>\n",
              "      <th>mode</th>\n",
              "      <th>speechiness</th>\n",
              "      <th>acousticness</th>\n",
              "      <th>instrumentalness</th>\n",
              "      <th>liveness</th>\n",
              "      <th>valence</th>\n",
              "      <th>tempo</th>\n",
              "      <th>duration_in min/ms</th>\n",
              "      <th>time_signature</th>\n",
              "    </tr>\n",
              "  </thead>\n",
              "  <tbody>\n",
              "    <tr>\n",
              "      <th>count</th>\n",
              "      <td>3600.000000</td>\n",
              "      <td>3505.000000</td>\n",
              "      <td>3600.000000</td>\n",
              "      <td>3600.000000</td>\n",
              "      <td>3195.000000</td>\n",
              "      <td>3600.000000</td>\n",
              "      <td>3600.000000</td>\n",
              "      <td>3600.000000</td>\n",
              "      <td>3600.000000</td>\n",
              "      <td>2764.000000</td>\n",
              "      <td>3600.000000</td>\n",
              "      <td>3600.000000</td>\n",
              "      <td>3600.000000</td>\n",
              "      <td>3.600000e+03</td>\n",
              "      <td>3600.000000</td>\n",
              "    </tr>\n",
              "    <tr>\n",
              "      <th>mean</th>\n",
              "      <td>16196.500000</td>\n",
              "      <td>44.459629</td>\n",
              "      <td>0.544744</td>\n",
              "      <td>0.664197</td>\n",
              "      <td>5.947105</td>\n",
              "      <td>-7.949879</td>\n",
              "      <td>0.622778</td>\n",
              "      <td>0.077813</td>\n",
              "      <td>0.248425</td>\n",
              "      <td>0.175336</td>\n",
              "      <td>0.197720</td>\n",
              "      <td>0.485527</td>\n",
              "      <td>122.335063</td>\n",
              "      <td>2.033447e+05</td>\n",
              "      <td>3.922778</td>\n",
              "    </tr>\n",
              "    <tr>\n",
              "      <th>std</th>\n",
              "      <td>1039.374812</td>\n",
              "      <td>17.461328</td>\n",
              "      <td>0.169257</td>\n",
              "      <td>0.233010</td>\n",
              "      <td>3.184676</td>\n",
              "      <td>4.016468</td>\n",
              "      <td>0.484759</td>\n",
              "      <td>0.076914</td>\n",
              "      <td>0.309510</td>\n",
              "      <td>0.303238</td>\n",
              "      <td>0.159040</td>\n",
              "      <td>0.243082</td>\n",
              "      <td>29.705640</td>\n",
              "      <td>1.131593e+05</td>\n",
              "      <td>0.369936</td>\n",
              "    </tr>\n",
              "    <tr>\n",
              "      <th>min</th>\n",
              "      <td>14397.000000</td>\n",
              "      <td>1.000000</td>\n",
              "      <td>0.064600</td>\n",
              "      <td>0.000020</td>\n",
              "      <td>1.000000</td>\n",
              "      <td>-34.797000</td>\n",
              "      <td>0.000000</td>\n",
              "      <td>0.022700</td>\n",
              "      <td>0.000001</td>\n",
              "      <td>0.000001</td>\n",
              "      <td>0.014400</td>\n",
              "      <td>0.018300</td>\n",
              "      <td>48.718000</td>\n",
              "      <td>9.871167e-01</td>\n",
              "      <td>1.000000</td>\n",
              "    </tr>\n",
              "    <tr>\n",
              "      <th>25%</th>\n",
              "      <td>15296.750000</td>\n",
              "      <td>33.000000</td>\n",
              "      <td>0.430000</td>\n",
              "      <td>0.512000</td>\n",
              "      <td>3.000000</td>\n",
              "      <td>-9.532500</td>\n",
              "      <td>0.000000</td>\n",
              "      <td>0.034800</td>\n",
              "      <td>0.004488</td>\n",
              "      <td>0.000093</td>\n",
              "      <td>0.098575</td>\n",
              "      <td>0.291000</td>\n",
              "      <td>98.515750</td>\n",
              "      <td>1.688360e+05</td>\n",
              "      <td>4.000000</td>\n",
              "    </tr>\n",
              "    <tr>\n",
              "      <th>50%</th>\n",
              "      <td>16196.500000</td>\n",
              "      <td>44.000000</td>\n",
              "      <td>0.549000</td>\n",
              "      <td>0.703000</td>\n",
              "      <td>6.000000</td>\n",
              "      <td>-7.043500</td>\n",
              "      <td>1.000000</td>\n",
              "      <td>0.048750</td>\n",
              "      <td>0.080850</td>\n",
              "      <td>0.003755</td>\n",
              "      <td>0.131000</td>\n",
              "      <td>0.481000</td>\n",
              "      <td>120.091000</td>\n",
              "      <td>2.103355e+05</td>\n",
              "      <td>4.000000</td>\n",
              "    </tr>\n",
              "    <tr>\n",
              "      <th>75%</th>\n",
              "      <td>17096.250000</td>\n",
              "      <td>56.000000</td>\n",
              "      <td>0.664000</td>\n",
              "      <td>0.859000</td>\n",
              "      <td>9.000000</td>\n",
              "      <td>-5.282250</td>\n",
              "      <td>1.000000</td>\n",
              "      <td>0.082800</td>\n",
              "      <td>0.441250</td>\n",
              "      <td>0.197250</td>\n",
              "      <td>0.265250</td>\n",
              "      <td>0.674000</td>\n",
              "      <td>141.846750</td>\n",
              "      <td>2.533958e+05</td>\n",
              "      <td>4.000000</td>\n",
              "    </tr>\n",
              "    <tr>\n",
              "      <th>max</th>\n",
              "      <td>17996.000000</td>\n",
              "      <td>97.000000</td>\n",
              "      <td>0.970000</td>\n",
              "      <td>0.999000</td>\n",
              "      <td>11.000000</td>\n",
              "      <td>1.355000</td>\n",
              "      <td>1.000000</td>\n",
              "      <td>0.886000</td>\n",
              "      <td>0.996000</td>\n",
              "      <td>0.973000</td>\n",
              "      <td>1.000000</td>\n",
              "      <td>0.984000</td>\n",
              "      <td>214.396000</td>\n",
              "      <td>1.412451e+06</td>\n",
              "      <td>5.000000</td>\n",
              "    </tr>\n",
              "  </tbody>\n",
              "</table>\n",
              "</div>\n",
              "      <button class=\"colab-df-convert\" onclick=\"convertToInteractive('df-e213b950-6cbb-411e-a73d-5862179752b0')\"\n",
              "              title=\"Convert this dataframe to an interactive table.\"\n",
              "              style=\"display:none;\">\n",
              "        \n",
              "  <svg xmlns=\"http://www.w3.org/2000/svg\" height=\"24px\"viewBox=\"0 0 24 24\"\n",
              "       width=\"24px\">\n",
              "    <path d=\"M0 0h24v24H0V0z\" fill=\"none\"/>\n",
              "    <path d=\"M18.56 5.44l.94 2.06.94-2.06 2.06-.94-2.06-.94-.94-2.06-.94 2.06-2.06.94zm-11 1L8.5 8.5l.94-2.06 2.06-.94-2.06-.94L8.5 2.5l-.94 2.06-2.06.94zm10 10l.94 2.06.94-2.06 2.06-.94-2.06-.94-.94-2.06-.94 2.06-2.06.94z\"/><path d=\"M17.41 7.96l-1.37-1.37c-.4-.4-.92-.59-1.43-.59-.52 0-1.04.2-1.43.59L10.3 9.45l-7.72 7.72c-.78.78-.78 2.05 0 2.83L4 21.41c.39.39.9.59 1.41.59.51 0 1.02-.2 1.41-.59l7.78-7.78 2.81-2.81c.8-.78.8-2.07 0-2.86zM5.41 20L4 18.59l7.72-7.72 1.47 1.35L5.41 20z\"/>\n",
              "  </svg>\n",
              "      </button>\n",
              "      \n",
              "  <style>\n",
              "    .colab-df-container {\n",
              "      display:flex;\n",
              "      flex-wrap:wrap;\n",
              "      gap: 12px;\n",
              "    }\n",
              "\n",
              "    .colab-df-convert {\n",
              "      background-color: #E8F0FE;\n",
              "      border: none;\n",
              "      border-radius: 50%;\n",
              "      cursor: pointer;\n",
              "      display: none;\n",
              "      fill: #1967D2;\n",
              "      height: 32px;\n",
              "      padding: 0 0 0 0;\n",
              "      width: 32px;\n",
              "    }\n",
              "\n",
              "    .colab-df-convert:hover {\n",
              "      background-color: #E2EBFA;\n",
              "      box-shadow: 0px 1px 2px rgba(60, 64, 67, 0.3), 0px 1px 3px 1px rgba(60, 64, 67, 0.15);\n",
              "      fill: #174EA6;\n",
              "    }\n",
              "\n",
              "    [theme=dark] .colab-df-convert {\n",
              "      background-color: #3B4455;\n",
              "      fill: #D2E3FC;\n",
              "    }\n",
              "\n",
              "    [theme=dark] .colab-df-convert:hover {\n",
              "      background-color: #434B5C;\n",
              "      box-shadow: 0px 1px 3px 1px rgba(0, 0, 0, 0.15);\n",
              "      filter: drop-shadow(0px 1px 2px rgba(0, 0, 0, 0.3));\n",
              "      fill: #FFFFFF;\n",
              "    }\n",
              "  </style>\n",
              "\n",
              "      <script>\n",
              "        const buttonEl =\n",
              "          document.querySelector('#df-e213b950-6cbb-411e-a73d-5862179752b0 button.colab-df-convert');\n",
              "        buttonEl.style.display =\n",
              "          google.colab.kernel.accessAllowed ? 'block' : 'none';\n",
              "\n",
              "        async function convertToInteractive(key) {\n",
              "          const element = document.querySelector('#df-e213b950-6cbb-411e-a73d-5862179752b0');\n",
              "          const dataTable =\n",
              "            await google.colab.kernel.invokeFunction('convertToInteractive',\n",
              "                                                     [key], {});\n",
              "          if (!dataTable) return;\n",
              "\n",
              "          const docLinkHtml = 'Like what you see? Visit the ' +\n",
              "            '<a target=\"_blank\" href=https://colab.research.google.com/notebooks/data_table.ipynb>data table notebook</a>'\n",
              "            + ' to learn more about interactive tables.';\n",
              "          element.innerHTML = '';\n",
              "          dataTable['output_type'] = 'display_data';\n",
              "          await google.colab.output.renderOutput(dataTable, element);\n",
              "          const docLink = document.createElement('div');\n",
              "          docLink.innerHTML = docLinkHtml;\n",
              "          element.appendChild(docLink);\n",
              "        }\n",
              "      </script>\n",
              "    </div>\n",
              "  </div>\n",
              "  "
            ]
          },
          "metadata": {},
          "execution_count": 96
        }
      ]
    },
    {
      "cell_type": "markdown",
      "source": [
        "# 3- Data Cleaning"
      ],
      "metadata": {
        "id": "Ip-6etjOdndE"
      },
      "id": "Ip-6etjOdndE"
    },
    {
      "cell_type": "markdown",
      "source": [
        "to Identify and Visualise Missing Data"
      ],
      "metadata": {
        "id": "kYSjpUrfbUIR"
      },
      "id": "kYSjpUrfbUIR"
    },
    {
      "cell_type": "code",
      "execution_count": 97,
      "id": "88332d09",
      "metadata": {
        "execution": {
          "iopub.execute_input": "2022-12-21T15:46:34.939107Z",
          "iopub.status.busy": "2022-12-21T15:46:34.938619Z",
          "iopub.status.idle": "2022-12-21T15:46:34.949479Z",
          "shell.execute_reply": "2022-12-21T15:46:34.948375Z"
        },
        "papermill": {
          "duration": 0.022032,
          "end_time": "2022-12-21T15:46:34.951921",
          "exception": false,
          "start_time": "2022-12-21T15:46:34.929889",
          "status": "completed"
        },
        "tags": [],
        "colab": {
          "base_uri": "https://localhost:8080/"
        },
        "id": "88332d09",
        "outputId": "65943ae3-829c-41d8-b24c-d010a5b3e864"
      },
      "outputs": [
        {
          "output_type": "stream",
          "name": "stdout",
          "text": [
            "(14396, 18)\n",
            "Popularity           333\n",
            "key                 1609\n",
            "instrumentalness    3541\n",
            "dtype: int64\n"
          ]
        }
      ],
      "source": [
        "print(train.shape)\n",
        "missing_val_count_by_column = (train.isnull().sum())\n",
        "print(missing_val_count_by_column[missing_val_count_by_column > 0])"
      ]
    },
    {
      "cell_type": "markdown",
      "source": [
        "NaN Values is:\n",
        "\n",
        "Popularity           333\n",
        "\n",
        "key                 1609\n",
        "\n",
        "instrumentalness    3541"
      ],
      "metadata": {
        "id": "PZtbvaFSeCza"
      },
      "id": "PZtbvaFSeCza"
    },
    {
      "cell_type": "code",
      "execution_count": 98,
      "id": "f88366f4",
      "metadata": {
        "execution": {
          "iopub.execute_input": "2022-12-21T15:46:34.965822Z",
          "iopub.status.busy": "2022-12-21T15:46:34.964990Z",
          "iopub.status.idle": "2022-12-21T15:46:35.807278Z",
          "shell.execute_reply": "2022-12-21T15:46:35.806114Z"
        },
        "papermill": {
          "duration": 0.852203,
          "end_time": "2022-12-21T15:46:35.810195",
          "exception": false,
          "start_time": "2022-12-21T15:46:34.957992",
          "status": "completed"
        },
        "tags": [],
        "colab": {
          "base_uri": "https://localhost:8080/",
          "height": 832
        },
        "id": "f88366f4",
        "outputId": "c83c396a-b4ed-4081-f127-9f4ed106bd71"
      },
      "outputs": [
        {
          "output_type": "execute_result",
          "data": {
            "text/plain": [
              "<Axes: >"
            ]
          },
          "metadata": {},
          "execution_count": 98
        },
        {
          "output_type": "display_data",
          "data": {
            "text/plain": [
              "<Figure size 2000x1400 with 2 Axes>"
            ],
            "image/png": "[encoded data removed]"
          },
          "metadata": {}
        }
      ],
      "source": [
        "msno.matrix(df=train, figsize=(20,14), color=(0.42, 0.1, 0.05))"
      ]
    },
    {
      "cell_type": "code",
      "source": [
        "train_zeros = train.apply(lambda x: sum(x==0), axis=0)\n",
        "train_zeros"
      ],
      "metadata": {
        "colab": {
          "base_uri": "https://localhost:8080/"
        },
        "id": "Seqmj92CefZ9",
        "outputId": "c50c6958-350c-4a63-ba08-33eab4e84457"
      },
      "id": "Seqmj92CefZ9",
      "execution_count": 99,
      "outputs": [
        {
          "output_type": "execute_result",
          "data": {
            "text/plain": [
              "Id                       0\n",
              "Artist Name              0\n",
              "Track Name               0\n",
              "Popularity               0\n",
              "danceability             0\n",
              "energy                   0\n",
              "key                      0\n",
              "loudness                 0\n",
              "mode                  5179\n",
              "speechiness              0\n",
              "acousticness             3\n",
              "instrumentalness         0\n",
              "liveness                 0\n",
              "valence                  0\n",
              "tempo                    0\n",
              "duration_in min/ms       0\n",
              "time_signature           0\n",
              "Class                  500\n",
              "dtype: int64"
            ]
          },
          "metadata": {},
          "execution_count": 99
        }
      ]
    },
    {
      "cell_type": "markdown",
      "source": [
        "Nomber of Zeros values is :\n",
        "\n",
        "mode       =           5179\n",
        "\n",
        "acousticness    =         3\n",
        "\n",
        "Class           =       500"
      ],
      "metadata": {
        "id": "ro2DkIUQekRK"
      },
      "id": "ro2DkIUQekRK"
    },
    {
      "cell_type": "code",
      "source": [],
      "metadata": {
        "id": "0mPS99xAej5N"
      },
      "id": "0mPS99xAej5N",
      "execution_count": 99,
      "outputs": []
    },
    {
      "cell_type": "code",
      "execution_count": 100,
      "id": "1d534ba9",
      "metadata": {
        "execution": {
          "iopub.execute_input": "2022-12-21T15:46:35.826312Z",
          "iopub.status.busy": "2022-12-21T15:46:35.825488Z",
          "iopub.status.idle": "2022-12-21T15:46:35.831220Z",
          "shell.execute_reply": "2022-12-21T15:46:35.830357Z"
        },
        "papermill": {
          "duration": 0.015809,
          "end_time": "2022-12-21T15:46:35.833209",
          "exception": false,
          "start_time": "2022-12-21T15:46:35.817400",
          "status": "completed"
        },
        "tags": [],
        "colab": {
          "base_uri": "https://localhost:8080/"
        },
        "id": "1d534ba9",
        "outputId": "a11b2b05-e664-4cd3-c741-5cb3296d271a"
      },
      "outputs": [
        {
          "output_type": "execute_result",
          "data": {
            "text/plain": [
              "Index(['Id', 'Artist Name', 'Track Name', 'Popularity', 'danceability',\n",
              "       'energy', 'key', 'loudness', 'mode', 'speechiness', 'acousticness',\n",
              "       'instrumentalness', 'liveness', 'valence', 'tempo',\n",
              "       'duration_in min/ms', 'time_signature', 'Class'],\n",
              "      dtype='object')"
            ]
          },
          "metadata": {},
          "execution_count": 100
        }
      ],
      "source": [
        "train.columns"
      ]
    },
    {
      "cell_type": "code",
      "source": [],
      "metadata": {
        "id": "8X5PoJQSfV4U"
      },
      "id": "8X5PoJQSfV4U",
      "execution_count": 100,
      "outputs": []
    },
    {
      "cell_type": "code",
      "execution_count": 101,
      "id": "19c3c952",
      "metadata": {
        "execution": {
          "iopub.execute_input": "2022-12-21T15:46:35.849213Z",
          "iopub.status.busy": "2022-12-21T15:46:35.848381Z",
          "iopub.status.idle": "2022-12-21T15:46:35.861268Z",
          "shell.execute_reply": "2022-12-21T15:46:35.860479Z"
        },
        "papermill": {
          "duration": 0.022974,
          "end_time": "2022-12-21T15:46:35.863327",
          "exception": false,
          "start_time": "2022-12-21T15:46:35.840353",
          "status": "completed"
        },
        "tags": [],
        "id": "19c3c952"
      },
      "outputs": [],
      "source": [
        "# Obtain target and predictors\n",
        "y = train.Class\n",
        "features =['Popularity', 'danceability', 'energy',\n",
        "       'key', 'loudness', 'mode', 'speechiness', 'acousticness',\n",
        "       'instrumentalness', 'liveness', 'valence', 'tempo',\n",
        "       'duration_in min/ms', 'time_signature']\n",
        "X = train[features].copy()"
      ]
    },
    {
      "cell_type": "code",
      "execution_count": 102,
      "id": "8cb859c6",
      "metadata": {
        "execution": {
          "iopub.execute_input": "2022-12-21T15:46:35.879219Z",
          "iopub.status.busy": "2022-12-21T15:46:35.878575Z",
          "iopub.status.idle": "2022-12-21T15:46:35.886815Z",
          "shell.execute_reply": "2022-12-21T15:46:35.885923Z"
        },
        "papermill": {
          "duration": 0.018622,
          "end_time": "2022-12-21T15:46:35.889011",
          "exception": false,
          "start_time": "2022-12-21T15:46:35.870389",
          "status": "completed"
        },
        "tags": [],
        "id": "8cb859c6"
      },
      "outputs": [],
      "source": [
        "# break off validation set from training data\n",
        "X_train, X_valid, y_train, y_valid = train_test_split(X, y, train_size=0.8, test_size=0.2, random_state=0)"
      ]
    },
    {
      "cell_type": "code",
      "execution_count": 162,
      "id": "e9d218f9",
      "metadata": {
        "execution": {
          "iopub.execute_input": "2022-12-21T15:46:35.904784Z",
          "iopub.status.busy": "2022-12-21T15:46:35.904070Z",
          "iopub.status.idle": "2022-12-21T15:46:40.417401Z",
          "shell.execute_reply": "2022-12-21T15:46:40.415402Z"
        },
        "papermill": {
          "duration": 4.52389,
          "end_time": "2022-12-21T15:46:40.419979",
          "exception": false,
          "start_time": "2022-12-21T15:46:35.896089",
          "status": "completed"
        },
        "tags": [],
        "colab": {
          "base_uri": "https://localhost:8080/"
        },
        "id": "e9d218f9",
        "outputId": "026ca871-6412-4223-fba5-254050900270"
      },
      "outputs": [
        {
          "output_type": "stream",
          "name": "stdout",
          "text": [
            "Accuracy IMputation :\n",
            "0.5215277777777778\n"
          ]
        }
      ],
      "source": [
        "# Imputation\n",
        "my_imputer = SimpleImputer()\n",
        "imputed_X_train = pd.DataFrame(my_imputer.fit_transform(X_train))\n",
        "imputed_X_valid = pd.DataFrame(my_imputer.transform(X_valid))\n",
        "\n",
        "#Imputation removed column names; put them back\n",
        "imputed_X_train.columns = X_train.columns\n",
        "imputed_X_valid.columns = X_valid.columns\n",
        "\n",
        "print(\"Accuracy IMputation :\")\n",
        "print(score_dataset(imputed_X_train, imputed_X_valid, y_train, y_valid))"
      ]
    },
    {
      "cell_type": "code",
      "execution_count": 163,
      "id": "365e8987",
      "metadata": {
        "execution": {
          "iopub.execute_input": "2022-12-21T15:46:40.437160Z",
          "iopub.status.busy": "2022-12-21T15:46:40.436787Z",
          "iopub.status.idle": "2022-12-21T15:46:44.937260Z",
          "shell.execute_reply": "2022-12-21T15:46:44.935936Z"
        },
        "papermill": {
          "duration": 4.511826,
          "end_time": "2022-12-21T15:46:44.939703",
          "exception": false,
          "start_time": "2022-12-21T15:46:40.427877",
          "status": "completed"
        },
        "tags": [],
        "colab": {
          "base_uri": "https://localhost:8080/"
        },
        "id": "365e8987",
        "outputId": "1f5befb8-4b00-4c4b-acf6-7f4f6468eeab"
      },
      "outputs": [
        {
          "output_type": "stream",
          "name": "stdout",
          "text": [
            "Accuracy IMputation :\n",
            "0.5260416666666666\n"
          ]
        }
      ],
      "source": [
        "my_imputer = SimpleImputer(strategy='constant')\n",
        "imputed_X_train = pd.DataFrame(my_imputer.fit_transform(X_train))\n",
        "imputed_X_valid = pd.DataFrame(my_imputer.transform(X_valid))\n",
        "\n",
        "#Imputation removed column names; put them back\n",
        "imputed_X_train.columns = X_train.columns\n",
        "imputed_X_valid.columns = X_valid.columns\n",
        "\n",
        "print(\"Accuracy IMputation :\")\n",
        "print(score_dataset(imputed_X_train, imputed_X_valid, y_train, y_valid))"
      ]
    },
    {
      "cell_type": "code",
      "execution_count": 166,
      "id": "e529f2d4",
      "metadata": {
        "execution": {
          "iopub.execute_input": "2022-12-21T15:46:44.956867Z",
          "iopub.status.busy": "2022-12-21T15:46:44.956109Z",
          "iopub.status.idle": "2022-12-21T15:46:44.999222Z",
          "shell.execute_reply": "2022-12-21T15:46:44.998345Z"
        },
        "papermill": {
          "duration": 0.054362,
          "end_time": "2022-12-21T15:46:45.001746",
          "exception": false,
          "start_time": "2022-12-21T15:46:44.947384",
          "status": "completed"
        },
        "tags": [],
        "id": "e529f2d4"
      },
      "outputs": [],
      "source": [
        "final_imputer=SimpleImputer(strategy='constant')\n",
        "final_X_train = pd.DataFrame(final_imputer.fit_transform(X_train))\n",
        "final_X_valid = pd.DataFrame(final_imputer.fit_transform(X_valid))\n",
        "\n",
        "#Imputation removed column names; put them back\n",
        "final_X_train.columns = X_train.columns\n",
        "final_X_valid.columns = X_valid.columns"
      ]
    },
    {
      "cell_type": "code",
      "execution_count": 182,
      "id": "a694185a",
      "metadata": {
        "execution": {
          "iopub.execute_input": "2022-12-21T15:46:45.019077Z",
          "iopub.status.busy": "2022-12-21T15:46:45.018689Z",
          "iopub.status.idle": "2022-12-21T15:46:49.434961Z",
          "shell.execute_reply": "2022-12-21T15:46:49.433840Z"
        },
        "papermill": {
          "duration": 4.428026,
          "end_time": "2022-12-21T15:46:49.437668",
          "exception": false,
          "start_time": "2022-12-21T15:46:45.009642",
          "status": "completed"
        },
        "tags": [],
        "colab": {
          "base_uri": "https://localhost:8080/"
        },
        "id": "a694185a",
        "outputId": "33c28a3b-3a69-4e8e-ef60-b6ae7d1f5ee6"
      },
      "outputs": [
        {
          "output_type": "stream",
          "name": "stdout",
          "text": [
            "Accuracy:\n",
            "0.5284722222222222\n"
          ]
        }
      ],
      "source": [
        "# Define and fit model\n",
        "model = RandomForestClassifier(n_estimators=150, random_state=0)\n",
        "model.fit(final_X_train, y_train)\n",
        "\n",
        "# Get validation predictions and Accuracy\n",
        "preds_valid = model.predict(final_X_valid)\n",
        "print(\"Accuracy:\")\n",
        "print(accuracy_score(y_valid, preds_valid))"
      ]
    },
    {
      "cell_type": "code",
      "execution_count": 183,
      "id": "fee16742",
      "metadata": {
        "execution": {
          "iopub.execute_input": "2022-12-21T15:46:49.454556Z",
          "iopub.status.busy": "2022-12-21T15:46:49.454171Z",
          "iopub.status.idle": "2022-12-21T15:46:49.724614Z",
          "shell.execute_reply": "2022-12-21T15:46:49.723417Z"
        },
        "papermill": {
          "duration": 0.281556,
          "end_time": "2022-12-21T15:46:49.727183",
          "exception": false,
          "start_time": "2022-12-21T15:46:49.445627",
          "status": "completed"
        },
        "tags": [],
        "colab": {
          "base_uri": "https://localhost:8080/"
        },
        "id": "fee16742",
        "outputId": "ecf910a7-f2f5-4ad4-d417-e49152897ec5"
      },
      "outputs": [
        {
          "output_type": "stream",
          "name": "stderr",
          "text": [
            "/usr/local/lib/python3.10/dist-packages/sklearn/base.py:439: UserWarning: X does not have valid feature names, but RandomForestClassifier was fitted with feature names\n",
            "  warnings.warn(\n"
          ]
        }
      ],
      "source": [
        "final_test = test[features].copy()\n",
        "final_test = pd.DataFrame(final_imputer.fit_transform(final_test))\n",
        "final_test.columns = final_test.columns\n",
        "preds_test= model.predict(final_test)"
      ]
    },
    {
      "cell_type": "code",
      "source": [
        "output = test[['Id']]\n",
        "output['Class'] = preds_test\n",
        "(output).to_csv('Music Classification Hussein Abd Elhafeez 22.csv',index=None)"
      ],
      "metadata": {
        "colab": {
          "base_uri": "https://localhost:8080/"
        },
        "id": "lRpwzM_y9Hrt",
        "outputId": "14813eed-66d4-457a-f8cb-a8ebdb056628"
      },
      "id": "lRpwzM_y9Hrt",
      "execution_count": 184,
      "outputs": [
        {
          "output_type": "stream",
          "name": "stderr",
          "text": [
            "<ipython-input-184-b7b3be60b4d3>:2: SettingWithCopyWarning: \n",
            "A value is trying to be set on a copy of a slice from a DataFrame.\n",
            "Try using .loc[row_indexer,col_indexer] = value instead\n",
            "\n",
            "See the caveats in the documentation: https://pandas.pydata.org/pandas-docs/stable/user_guide/indexing.html#returning-a-view-versus-a-copy\n",
            "  output['Class'] = preds_test\n"
          ]
        }
      ]
    },
    {
      "cell_type": "code",
      "source": [
        "output"
      ],
      "metadata": {
        "colab": {
          "base_uri": "https://localhost:8080/",
          "height": 423
        },
        "id": "ekqII9Iv9T90",
        "outputId": "b86dfde8-e79a-408f-bdfa-78ac3a63f0fd"
      },
      "id": "ekqII9Iv9T90",
      "execution_count": 185,
      "outputs": [
        {
          "output_type": "execute_result",
          "data": {
            "text/plain": [
              "         Id  Class\n",
              "0     14397      6\n",
              "1     14398      6\n",
              "2     14399      9\n",
              "3     14400     10\n",
              "4     14401      5\n",
              "...     ...    ...\n",
              "3595  17992     10\n",
              "3596  17993      5\n",
              "3597  17994      1\n",
              "3598  17995     10\n",
              "3599  17996     10\n",
              "\n",
              "[3600 rows x 2 columns]"
            ],
            "text/html": [
              "\n",
              "  <div id=\"df-74f0b7a8-32c4-409e-b0cb-9ff6b3b2da39\">\n",
              "    <div class=\"colab-df-container\">\n",
              "      <div>\n",
              "<style scoped>\n",
              "    .dataframe tbody tr th:only-of-type {\n",
              "        vertical-align: middle;\n",
              "    }\n",
              "\n",
              "    .dataframe tbody tr th {\n",
              "        vertical-align: top;\n",
              "    }\n",
              "\n",
              "    .dataframe thead th {\n",
              "        text-align: right;\n",
              "    }\n",
              "</style>\n",
              "<table border=\"1\" class=\"dataframe\">\n",
              "  <thead>\n",
              "    <tr style=\"text-align: right;\">\n",
              "      <th></th>\n",
              "      <th>Id</th>\n",
              "      <th>Class</th>\n",
              "    </tr>\n",
              "  </thead>\n",
              "  <tbody>\n",
              "    <tr>\n",
              "      <th>0</th>\n",
              "      <td>14397</td>\n",
              "      <td>6</td>\n",
              "    </tr>\n",
              "    <tr>\n",
              "      <th>1</th>\n",
              "      <td>14398</td>\n",
              "      <td>6</td>\n",
              "    </tr>\n",
              "    <tr>\n",
              "      <th>2</th>\n",
              "      <td>14399</td>\n",
              "      <td>9</td>\n",
              "    </tr>\n",
              "    <tr>\n",
              "      <th>3</th>\n",
              "      <td>14400</td>\n",
              "      <td>10</td>\n",
              "    </tr>\n",
              "    <tr>\n",
              "      <th>4</th>\n",
              "      <td>14401</td>\n",
              "      <td>5</td>\n",
              "    </tr>\n",
              "    <tr>\n",
              "      <th>...</th>\n",
              "      <td>...</td>\n",
              "      <td>...</td>\n",
              "    </tr>\n",
              "    <tr>\n",
              "      <th>3595</th>\n",
              "      <td>17992</td>\n",
              "      <td>10</td>\n",
              "    </tr>\n",
              "    <tr>\n",
              "      <th>3596</th>\n",
              "      <td>17993</td>\n",
              "      <td>5</td>\n",
              "    </tr>\n",
              "    <tr>\n",
              "      <th>3597</th>\n",
              "      <td>17994</td>\n",
              "      <td>1</td>\n",
              "    </tr>\n",
              "    <tr>\n",
              "      <th>3598</th>\n",
              "      <td>17995</td>\n",
              "      <td>10</td>\n",
              "    </tr>\n",
              "    <tr>\n",
              "      <th>3599</th>\n",
              "      <td>17996</td>\n",
              "      <td>10</td>\n",
              "    </tr>\n",
              "  </tbody>\n",
              "</table>\n",
              "<p>3600 rows × 2 columns</p>\n",
              "</div>\n",
              "      <button class=\"colab-df-convert\" onclick=\"convertToInteractive('df-74f0b7a8-32c4-409e-b0cb-9ff6b3b2da39')\"\n",
              "              title=\"Convert this dataframe to an interactive table.\"\n",
              "              style=\"display:none;\">\n",
              "        \n",
              "  <svg xmlns=\"http://www.w3.org/2000/svg\" height=\"24px\"viewBox=\"0 0 24 24\"\n",
              "       width=\"24px\">\n",
              "    <path d=\"M0 0h24v24H0V0z\" fill=\"none\"/>\n",
              "    <path d=\"M18.56 5.44l.94 2.06.94-2.06 2.06-.94-2.06-.94-.94-2.06-.94 2.06-2.06.94zm-11 1L8.5 8.5l.94-2.06 2.06-.94-2.06-.94L8.5 2.5l-.94 2.06-2.06.94zm10 10l.94 2.06.94-2.06 2.06-.94-2.06-.94-.94-2.06-.94 2.06-2.06.94z\"/><path d=\"M17.41 7.96l-1.37-1.37c-.4-.4-.92-.59-1.43-.59-.52 0-1.04.2-1.43.59L10.3 9.45l-7.72 7.72c-.78.78-.78 2.05 0 2.83L4 21.41c.39.39.9.59 1.41.59.51 0 1.02-.2 1.41-.59l7.78-7.78 2.81-2.81c.8-.78.8-2.07 0-2.86zM5.41 20L4 18.59l7.72-7.72 1.47 1.35L5.41 20z\"/>\n",
              "  </svg>\n",
              "      </button>\n",
              "      \n",
              "  <style>\n",
              "    .colab-df-container {\n",
              "      display:flex;\n",
              "      flex-wrap:wrap;\n",
              "      gap: 12px;\n",
              "    }\n",
              "\n",
              "    .colab-df-convert {\n",
              "      background-color: #E8F0FE;\n",
              "      border: none;\n",
              "      border-radius: 50%;\n",
              "      cursor: pointer;\n",
              "      display: none;\n",
              "      fill: #1967D2;\n",
              "      height: 32px;\n",
              "      padding: 0 0 0 0;\n",
              "      width: 32px;\n",
              "    }\n",
              "\n",
              "    .colab-df-convert:hover {\n",
              "      background-color: #E2EBFA;\n",
              "      box-shadow: 0px 1px 2px rgba(60, 64, 67, 0.3), 0px 1px 3px 1px rgba(60, 64, 67, 0.15);\n",
              "      fill: #174EA6;\n",
              "    }\n",
              "\n",
              "    [theme=dark] .colab-df-convert {\n",
              "      background-color: #3B4455;\n",
              "      fill: #D2E3FC;\n",
              "    }\n",
              "\n",
              "    [theme=dark] .colab-df-convert:hover {\n",
              "      background-color: #434B5C;\n",
              "      box-shadow: 0px 1px 3px 1px rgba(0, 0, 0, 0.15);\n",
              "      filter: drop-shadow(0px 1px 2px rgba(0, 0, 0, 0.3));\n",
              "      fill: #FFFFFF;\n",
              "    }\n",
              "  </style>\n",
              "\n",
              "      <script>\n",
              "        const buttonEl =\n",
              "          document.querySelector('#df-74f0b7a8-32c4-409e-b0cb-9ff6b3b2da39 button.colab-df-convert');\n",
              "        buttonEl.style.display =\n",
              "          google.colab.kernel.accessAllowed ? 'block' : 'none';\n",
              "\n",
              "        async function convertToInteractive(key) {\n",
              "          const element = document.querySelector('#df-74f0b7a8-32c4-409e-b0cb-9ff6b3b2da39');\n",
              "          const dataTable =\n",
              "            await google.colab.kernel.invokeFunction('convertToInteractive',\n",
              "                                                     [key], {});\n",
              "          if (!dataTable) return;\n",
              "\n",
              "          const docLinkHtml = 'Like what you see? Visit the ' +\n",
              "            '<a target=\"_blank\" href=https://colab.research.google.com/notebooks/data_table.ipynb>data table notebook</a>'\n",
              "            + ' to learn more about interactive tables.';\n",
              "          element.innerHTML = '';\n",
              "          dataTable['output_type'] = 'display_data';\n",
              "          await google.colab.output.renderOutput(dataTable, element);\n",
              "          const docLink = document.createElement('div');\n",
              "          docLink.innerHTML = docLinkHtml;\n",
              "          element.appendChild(docLink);\n",
              "        }\n",
              "      </script>\n",
              "    </div>\n",
              "  </div>\n",
              "  "
            ]
          },
          "metadata": {},
          "execution_count": 185
        }
      ]
    },
    {
      "cell_type": "code",
      "execution_count": 171,
      "id": "14dfc90b",
      "metadata": {
        "execution": {
          "iopub.execute_input": "2022-12-21T15:46:49.776710Z",
          "iopub.status.busy": "2022-12-21T15:46:49.775800Z",
          "iopub.status.idle": "2022-12-21T15:46:49.785058Z",
          "shell.execute_reply": "2022-12-21T15:46:49.784301Z"
        },
        "papermill": {
          "duration": 0.01978,
          "end_time": "2022-12-21T15:46:49.786980",
          "exception": false,
          "start_time": "2022-12-21T15:46:49.767200",
          "status": "completed"
        },
        "tags": [],
        "id": "14dfc90b"
      },
      "outputs": [],
      "source": [
        "class_name = [\"Rock\", \"Indie\", \"Alt\", \"Pop\", \"Metal\", \"HipHop\", \"Alt_Music\", \"Blues\", \"Acoustic/Folk\", \"Instrumental\", \"Country\", \"Bollywood\"]\n",
        "result=output.copy()\n",
        "result['target_names']=output['Class']\n",
        "class_mapping = { i : class_name[i] for i in range(0,11)} #Class mapping\n",
        "result['target_names']=result['target_names'].map(class_mapping)"
      ]
    },
    {
      "cell_type": "code",
      "execution_count": 172,
      "id": "43009209",
      "metadata": {
        "execution": {
          "iopub.execute_input": "2022-12-21T15:46:49.804323Z",
          "iopub.status.busy": "2022-12-21T15:46:49.803682Z",
          "iopub.status.idle": "2022-12-21T15:46:49.811476Z",
          "shell.execute_reply": "2022-12-21T15:46:49.810744Z"
        },
        "papermill": {
          "duration": 0.018638,
          "end_time": "2022-12-21T15:46:49.813508",
          "exception": false,
          "start_time": "2022-12-21T15:46:49.794870",
          "status": "completed"
        },
        "tags": [],
        "colab": {
          "base_uri": "https://localhost:8080/"
        },
        "id": "43009209",
        "outputId": "a5629a53-0ec5-4ce1-a474-9f4ee4409f05"
      },
      "outputs": [
        {
          "output_type": "execute_result",
          "data": {
            "text/plain": [
              "Country          1355\n",
              "Instrumental      507\n",
              "Alt_Music         468\n",
              "Acoustic/Folk     301\n",
              "HipHop            264\n",
              "Alt               191\n",
              "Rock              158\n",
              "Blues             106\n",
              "Indie             102\n",
              "Metal              79\n",
              "Pop                69\n",
              "Name: target_names, dtype: int64"
            ]
          },
          "metadata": {},
          "execution_count": 172
        }
      ],
      "source": [
        "result['target_names'].value_counts()"
      ]
    },
    {
      "cell_type": "code",
      "execution_count": 173,
      "id": "0c94b5e3",
      "metadata": {
        "execution": {
          "iopub.execute_input": "2022-12-21T15:46:49.831203Z",
          "iopub.status.busy": "2022-12-21T15:46:49.830523Z",
          "iopub.status.idle": "2022-12-21T15:46:50.084482Z",
          "shell.execute_reply": "2022-12-21T15:46:50.083775Z"
        },
        "papermill": {
          "duration": 0.265181,
          "end_time": "2022-12-21T15:46:50.086547",
          "exception": false,
          "start_time": "2022-12-21T15:46:49.821366",
          "status": "completed"
        },
        "tags": [],
        "colab": {
          "base_uri": "https://localhost:8080/",
          "height": 1000
        },
        "id": "0c94b5e3",
        "outputId": "2eebf83f-76ed-48a6-95a9-04a11735b182"
      },
      "outputs": [
        {
          "output_type": "display_data",
          "data": {
            "text/plain": [
              "<Figure size 2000x1500 with 1 Axes>"
            ],
            "image/png": "[encoded data removed]"
          },
          "metadata": {}
        }
      ],
      "source": [
        "plt.figure(figsize=(20,15))\n",
        "plt.pie(result['target_names'].value_counts(), labels=list(result['target_names'].unique()),\n",
        "        autopct=lambda x: '{:.2f}%\\n({:.0f})'.format(x, len(list(result['target_names']))*x/100))\n",
        "plt.show()"
      ]
    }
  ],
  "metadata": {
    "kernelspec": {
      "display_name": "Python 3",
      "language": "python",
      "name": "python3"
    },
    "language_info": {
      "codemirror_mode": {
        "name": "ipython",
        "version": 3
      },
      "file_extension": ".py",
      "mimetype": "text/x-python",
      "name": "python",
      "nbconvert_exporter": "python",
      "pygments_lexer": "ipython3",
      "version": "3.7.12"
    },
    "papermill": {
      "default_parameters": {},
      "duration": 30.018363,
      "end_time": "2022-12-21T15:46:50.817371",
      "environment_variables": {},
      "exception": null,
      "input_path": "__notebook__.ipynb",
      "output_path": "__notebook__.ipynb",
      "parameters": {},
      "start_time": "2022-12-21T15:46:20.799008",
      "version": "2.3.4"
    },
    "colab": {
      "provenance": [],
      "collapsed_sections": [
        "jHCKDLp3blSZ"
      ]
    }
  },
  "nbformat": 4,
  "nbformat_minor": 5
}